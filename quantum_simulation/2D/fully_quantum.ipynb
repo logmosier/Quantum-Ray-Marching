{
 "cells": [
  {
   "cell_type": "code",
   "execution_count": null,
   "metadata": {},
   "outputs": [],
   "source": [
    "from qiskit import Aer\n",
    "import numpy as np\n",
    "import matplotlib.pyplot as plt\n",
    "import matplotlib.gridspec as gridspec\n",
    "from matplotlib.pyplot import figure\n"
   ]
  },
  {
   "cell_type": "code",
   "execution_count": 17,
   "metadata": {},
   "outputs": [
    {
     "name": "stdout",
     "output_type": "stream",
     "text": [
      "The autoreload extension is already loaded. To reload it, use:\n",
      "  %reload_ext autoreload\n"
     ]
    }
   ],
   "source": [
    "%load_ext autoreload\n",
    "%autoreload 2\n",
    "from classical import *\n",
    "from coin_gate import lambertian_coin, Coin, make_coin\n",
    "from path_gate import path_evaluation_gate\n",
    "from rendering import sample_circuit, render_quantum_light_map, walk_circuit\n",
    "from shift_gate import shift_gate"
   ]
  },
  {
   "cell_type": "code",
   "execution_count": 18,
   "metadata": {},
   "outputs": [],
   "source": [
    "backend = Aer.get_backend('aer_simulator')"
   ]
  },
  {
   "cell_type": "code",
   "execution_count": 19,
   "metadata": {},
   "outputs": [],
   "source": [
    "pb_bits = 3\n",
    "steps = 3\n",
    "d_bits = 3\n",
    "scene = np.array([\n",
    "    [Coin(3, diffuse=False), Coin(4),  Coin(4), Coin(4), Coin(4), Coin(4),  Coin(4), Coin(5, diffuse=False)],\n",
    "    [Coin(2), Coin(),   Coin(),  Coin(), Coin(), Coin(),  Coin(), Coin(6)],\n",
    "    [Coin(2), Coin(),   Coin(),  Coin(), Coin(), Coin(),  Coin(), Coin(6)],\n",
    "    [Coin(2), Coin(),   Coin(7),   Coin(0), Coin(1), Coin(),  Coin(), Coin(6)],\n",
    "    [Coin(2), Coin(),   Coin(6),  Coin(0, diffuse=False), Coin(2), Coin(),  Coin(), Coin(6)],\n",
    "    [Coin(2), Coin(),   Coin(5),  Coin(4), Coin(3), Coin(),  Coin(), Coin(6)],\n",
    "    [Coin(2), Coin(),   Coin(),  Coin(), Coin(), Coin(),  Coin(), Coin(6)],\n",
    "    [Coin(1, diffuse=False), Coin(0),  Coin(0), Coin(0), Coin(0), Coin(0),  Coin(0), Coin(7, diffuse=False)],\n",
    "])\n",
    "\n",
    "red = np.array([0.5,0,0])\n",
    "green = np.array([0,0.5,0])\n",
    "blue = np.array([0,0,0.5])\n",
    "white = np.array([1,1,1])\n",
    "gray = np.array([0.75,0.75,0.75])\n",
    "air = np.array([1.0,1.0, 1.0])\n",
    "black = np.array([0,0,0])\n",
    "\n",
    "emitted = np.array([\n",
    "    [black, black,  black, white, white, black,  black, black],\n",
    "    [white, black,  black, black, black, black,  black, black],\n",
    "    [white, black,  black, black, black, black,  black, black],\n",
    "    [white, black,  black, black, black, black,  black, white],\n",
    "    [white, black,  black, black, white, black,  black, white],\n",
    "    [white, black,  black, black, black, black,  black, black],\n",
    "    [white, black,  black, black, black, black,  black, black],\n",
    "    [black, black,  black, white, white, black,  black, black],\n",
    "])\n",
    "diffuse = np.array([\n",
    "    [gray, green, green, white, white, green, green, gray],\n",
    "    [white, air,  air,  air,  air,  air,  air,  red],\n",
    "    [white, air,  air,  air,  air,  air,  air,  red],\n",
    "    [white, air,  blue, red, blue, air,  air,  white],\n",
    "    [white, air,  red, blue, white, air,  air,  white],\n",
    "    [white, air,  blue, red, blue, air,  air,  red],\n",
    "    [white, air,  air,  air,  air,  air,  air,  gray],\n",
    "    [gray, gray, gray, white, white, gray, gray, gray],\n",
    "])\n",
    "\n",
    "pb_bits = 2\n",
    "steps = 3\n",
    "d_bits = 3\n",
    "scene = np.array([\n",
    "    [Coin(3, diffuse=False), Coin(4),  Coin(4), Coin(5, diffuse=False)],\n",
    "    [Coin(2), Coin(),   Coin(), Coin(6)],\n",
    "    [Coin(2), Coin(),   Coin(), Coin(6)],\n",
    "    [Coin(1, diffuse=False), Coin(0),  Coin(0), Coin(7, diffuse=False)],\n",
    "])\n",
    "\n",
    "red = np.array([0.5,0,0])\n",
    "green = np.array([0,0.5,0])\n",
    "blue = np.array([0,0,0.5])\n",
    "white = np.array([1.0,1.0,1.0])\n",
    "black = np.array([0,0,0])\n",
    "gray = np.array([0.75,0.75,0.75])\n",
    "air = np.array([1.0,1.0, 1.0])\n",
    "\n",
    "emitted = np.array([\n",
    "    [black, black,  white, black],\n",
    "    [black, black,  black, black],\n",
    "    [white, black,  black, black],\n",
    "    [black, black,  black, black],\n",
    "])\n",
    "diffuse = np.array([\n",
    "    [gray, gray, gray, gray],\n",
    "    [gray, air,  air,  red],\n",
    "    [gray, air,  air,  red],\n",
    "    [gray, blue, green, gray],\n",
    "])"
   ]
  },
  {
   "cell_type": "code",
   "execution_count": 20,
   "metadata": {},
   "outputs": [
    {
     "name": "stdout",
     "output_type": "stream",
     "text": [
      "gates made\n",
      "coin at : 0 0 False 3\n",
      "coin at : 1 0 False 4\n",
      "coin at : 2 0 False 4\n",
      "coin at : 3 0 False 5\n",
      "coin at : 0 1 False 2\n",
      "coin at : 1 1 True None\n",
      "coin at : 2 1 True None\n",
      "coin at : 3 1 False 6\n",
      "coin at : 0 2 False 2\n",
      "coin at : 1 2 True None\n",
      "coin at : 2 2 True None\n",
      "coin at : 3 2 False 6\n",
      "coin at : 0 3 False 1\n",
      "coin at : 1 3 False 0\n",
      "coin at : 2 3 False 0\n",
      "coin at : 3 3 False 7\n",
      "coin made\n",
      "                0,0                 1,0                   2,0          »\n",
      "q6849_0: ────────o───────────────────■─────────────────────o───────────»\n",
      "                 │                   │                     │           »\n",
      "q6849_1: ────────o───────────────────o─────────────────────■───────────»\n",
      "                 │                   │                     │           »\n",
      "q6850_0: ────────o───────────────────o─────────────────────o───────────»\n",
      "                 │                   │                     │           »\n",
      "q6850_1: ────────o───────────────────o─────────────────────o───────────»\n",
      "         ┌───────┴────────┐┌─────────┴──────────┐┌─────────┴──────────┐»\n",
      "q6851_0: ┤0               ├┤0                   ├┤0                   ├»\n",
      "         │                ││                    ││                    │»\n",
      "q6851_1: ┤1 boundary_coin ├┤1 lambertian_coin_4 ├┤1 lambertian_coin_4 ├»\n",
      "         │                ││                    ││                    │»\n",
      "q6851_2: ┤2               ├┤2                   ├┤2                   ├»\n",
      "         └────────────────┘└────────────────────┘└────────────────────┘»\n",
      "«                3,0                 0,1                   3,1          »\n",
      "«q6849_0: ────────■───────────────────o─────────────────────■───────────»\n",
      "«                 │                   │                     │           »\n",
      "«q6849_1: ────────■───────────────────o─────────────────────■───────────»\n",
      "«                 │                   │                     │           »\n",
      "«q6850_0: ────────o───────────────────■─────────────────────■───────────»\n",
      "«                 │                   │                     │           »\n",
      "«q6850_1: ────────o───────────────────o─────────────────────o───────────»\n",
      "«         ┌───────┴────────┐┌─────────┴──────────┐┌─────────┴──────────┐»\n",
      "«q6851_0: ┤0               ├┤0                   ├┤0                   ├»\n",
      "«         │                ││                    ││                    │»\n",
      "«q6851_1: ┤1 boundary_coin ├┤1 lambertian_coin_2 ├┤1 lambertian_coin_6 ├»\n",
      "«         │                ││                    ││                    │»\n",
      "«q6851_2: ┤2               ├┤2                   ├┤2                   ├»\n",
      "«         └────────────────┘└────────────────────┘└────────────────────┘»\n",
      "«                  0,2                   3,2                 0,3        »\n",
      "«q6849_0: ──────────o─────────────────────■───────────────────o─────────»\n",
      "«                   │                     │                   │         »\n",
      "«q6849_1: ──────────o─────────────────────■───────────────────o─────────»\n",
      "«                   │                     │                   │         »\n",
      "«q6850_0: ──────────o─────────────────────o───────────────────■─────────»\n",
      "«                   │                     │                   │         »\n",
      "«q6850_1: ──────────■─────────────────────■───────────────────■─────────»\n",
      "«         ┌─────────┴──────────┐┌─────────┴──────────┐┌───────┴────────┐»\n",
      "«q6851_0: ┤0                   ├┤0                   ├┤0               ├»\n",
      "«         │                    ││                    ││                │»\n",
      "«q6851_1: ┤1 lambertian_coin_2 ├┤1 lambertian_coin_6 ├┤1 boundary_coin ├»\n",
      "«         │                    ││                    ││                │»\n",
      "«q6851_2: ┤2                   ├┤2                   ├┤2               ├»\n",
      "«         └────────────────────┘└────────────────────┘└────────────────┘»\n",
      "«                  1,3                   2,3                 3,3        \n",
      "«q6849_0: ──────────■─────────────────────o───────────────────■─────────\n",
      "«                   │                     │                   │         \n",
      "«q6849_1: ──────────o─────────────────────■───────────────────■─────────\n",
      "«                   │                     │                   │         \n",
      "«q6850_0: ──────────■─────────────────────■───────────────────■─────────\n",
      "«                   │                     │                   │         \n",
      "«q6850_1: ──────────■─────────────────────■───────────────────■─────────\n",
      "«         ┌─────────┴──────────┐┌─────────┴──────────┐┌───────┴────────┐\n",
      "«q6851_0: ┤0                   ├┤0                   ├┤0               ├\n",
      "«         │                    ││                    ││                │\n",
      "«q6851_1: ┤1 lambertian_coin_0 ├┤1 lambertian_coin_0 ├┤1 boundary_coin ├\n",
      "«         │                    ││                    ││                │\n",
      "«q6851_2: ┤2                   ├┤2                   ├┤2               ├\n",
      "«         └────────────────────┘└────────────────────┘└────────────────┘\n"
     ]
    }
   ],
   "source": [
    "coins = [lambertian_coin(i) for i in range(8)]\n",
    "coin_circuit = make_coin(pb_bits, d_bits, scene, coins)"
   ]
  },
  {
   "cell_type": "code",
   "execution_count": 21,
   "metadata": {},
   "outputs": [],
   "source": [
    "shif_circuit = shift_gate(pb_bits, 3)"
   ]
  },
  {
   "cell_type": "code",
   "execution_count": 22,
   "metadata": {},
   "outputs": [],
   "source": [
    "diff_sample_circuits = [sample_circuit(diffuse, pb_bits, c) for c in range(3)]\n",
    "light_sample_circuits = [sample_circuit(emitted, pb_bits, c) for c in range(3)]"
   ]
  },
  {
   "cell_type": "code",
   "execution_count": 23,
   "metadata": {},
   "outputs": [],
   "source": [
    "process_path_circuit = path_evaluation_gate(steps)"
   ]
  },
  {
   "cell_type": "code",
   "execution_count": 24,
   "metadata": {},
   "outputs": [
    {
     "name": "stdout",
     "output_type": "stream",
     "text": [
      "step 0\n",
      "step 1\n",
      "step 2\n",
      "walk made\n",
      "step 0\n",
      "step 1\n",
      "step 2\n",
      "walk made\n",
      "step 0\n",
      "step 1\n",
      "step 2\n",
      "walk made\n"
     ]
    }
   ],
   "source": [
    "walk_samplaling_circuits= [walk_circuit(d, l, coin_circuit, shif_circuit, pb_bits, d_bits, steps, backend) for (d, l) in zip(diff_sample_circuits, light_sample_circuits)]"
   ]
  },
  {
   "cell_type": "code",
   "execution_count": 25,
   "metadata": {},
   "outputs": [
    {
     "name": "stdout",
     "output_type": "stream",
     "text": [
      "Pixel 0 0\n",
      "starting walk 0\n",
      "qubits: 15 depth: 3\n",
      "circuit made\n",
      "problem made\n",
      "running\n"
     ]
    },
    {
     "ename": "KeyboardInterrupt",
     "evalue": "",
     "output_type": "error",
     "traceback": [
      "\u001b[0;31m---------------------------------------------------------------------------\u001b[0m",
      "\u001b[0;31mKeyboardInterrupt\u001b[0m                         Traceback (most recent call last)",
      "Cell \u001b[0;32mIn[25], line 1\u001b[0m\n\u001b[0;32m----> 1\u001b[0m q_light_map \u001b[39m=\u001b[39m render_quantum_light_map(scene, pb_bits, steps, d_bits, backend, walk_samplaling_circuits, process_path_circuit)\n",
      "File \u001b[0;32m~/Documents/quantum_ray_marching/quantum_simulation/2D/rendering.py:83\u001b[0m, in \u001b[0;36mrender_quantum_light_map\u001b[0;34m(scene, pb_bits, steps, d_bits, backend, walk_circuits, process_path_circuit)\u001b[0m\n\u001b[1;32m     81\u001b[0m     \u001b[39mfor\u001b[39;00m (y, pixel) \u001b[39min\u001b[39;00m \u001b[39menumerate\u001b[39m(row):\n\u001b[1;32m     82\u001b[0m         \u001b[39mprint\u001b[39m(\u001b[39m\"\u001b[39m\u001b[39mPixel\u001b[39m\u001b[39m\"\u001b[39m, x,y)\n\u001b[0;32m---> 83\u001b[0m         q_light_map[x,y] \u001b[39m=\u001b[39m evaluate_point(scene, pb_bits, steps, d_bits, [x,y], walk_circuits, backend, process_path_circuit)\n\u001b[1;32m     85\u001b[0m \u001b[39mprint\u001b[39m(np\u001b[39m.\u001b[39mdstack(q_light_map))\n",
      "File \u001b[0;32m~/Documents/quantum_ray_marching/quantum_simulation/2D/rendering.py:71\u001b[0m, in \u001b[0;36mevaluate_point\u001b[0;34m(scene, pb_bits, steps, d_bits, point, walk_circuits, backend, process_path_circuit)\u001b[0m\n\u001b[1;32m     64\u001b[0m fae \u001b[39m=\u001b[39m FasterAmplitudeEstimation(\n\u001b[1;32m     65\u001b[0m     delta\u001b[39m=\u001b[39m\u001b[39m0.000001\u001b[39m,  \u001b[39m# target accuracy\u001b[39;00m\n\u001b[1;32m     66\u001b[0m     maxiter\u001b[39m=\u001b[39m\u001b[39m5\u001b[39m,  \u001b[39m# determines the maximal power of the Grover operator\u001b[39;00m\n\u001b[1;32m     67\u001b[0m     quantum_instance\u001b[39m=\u001b[39mbackend,\n\u001b[1;32m     68\u001b[0m     rescale\u001b[39m=\u001b[39m\u001b[39mTrue\u001b[39;00m\n\u001b[1;32m     69\u001b[0m )\n\u001b[1;32m     70\u001b[0m \u001b[39mprint\u001b[39m(\u001b[39m\"\u001b[39m\u001b[39mrunning\u001b[39m\u001b[39m\"\u001b[39m)\n\u001b[0;32m---> 71\u001b[0m r \u001b[39m=\u001b[39m fae\u001b[39m.\u001b[39;49mestimate(problem)\n\u001b[1;32m     72\u001b[0m \u001b[39mprint\u001b[39m(r)\n\u001b[1;32m     73\u001b[0m results\u001b[39m.\u001b[39mappend(r)\n",
      "File \u001b[0;32m~/.local/lib/python3.11/site-packages/qiskit/algorithms/amplitude_estimators/fae.py:295\u001b[0m, in \u001b[0;36mFasterAmplitudeEstimation.estimate\u001b[0;34m(self, estimation_problem)\u001b[0m\n\u001b[1;32m    293\u001b[0m \u001b[39mif\u001b[39;00m first_stage:\n\u001b[1;32m    294\u001b[0m     num_first_stage_steps \u001b[39m+\u001b[39m\u001b[39m=\u001b[39m \u001b[39m1\u001b[39m\n\u001b[0;32m--> 295\u001b[0m     c \u001b[39m=\u001b[39m cos_estimate(\u001b[39m2\u001b[39;49m \u001b[39m*\u001b[39;49m\u001b[39m*\u001b[39;49m (j \u001b[39m-\u001b[39;49m \u001b[39m1\u001b[39;49m), \u001b[39mself\u001b[39;49m\u001b[39m.\u001b[39;49m_shots[\u001b[39m0\u001b[39;49m])\n\u001b[1;32m    296\u001b[0m     chernoff_ci \u001b[39m=\u001b[39m \u001b[39mself\u001b[39m\u001b[39m.\u001b[39m_chernoff(c, \u001b[39mself\u001b[39m\u001b[39m.\u001b[39m_shots[\u001b[39m0\u001b[39m])\n\u001b[1;32m    297\u001b[0m     theta_ci \u001b[39m=\u001b[39m [np\u001b[39m.\u001b[39marccos(x) \u001b[39m/\u001b[39m (\u001b[39m2\u001b[39m \u001b[39m*\u001b[39m\u001b[39m*\u001b[39m (j \u001b[39m+\u001b[39m \u001b[39m1\u001b[39m) \u001b[39m+\u001b[39m \u001b[39m2\u001b[39m) \u001b[39mfor\u001b[39;00m x \u001b[39min\u001b[39;00m chernoff_ci[::\u001b[39m-\u001b[39m\u001b[39m1\u001b[39m]]\n",
      "File \u001b[0;32m~/.local/lib/python3.11/site-packages/qiskit/algorithms/amplitude_estimators/fae.py:289\u001b[0m, in \u001b[0;36mFasterAmplitudeEstimation.estimate.<locals>.cos_estimate\u001b[0;34m(power, shots)\u001b[0m\n\u001b[1;32m    288\u001b[0m \u001b[39mdef\u001b[39;00m \u001b[39mcos_estimate\u001b[39m(power, shots):\n\u001b[0;32m--> 289\u001b[0m     \u001b[39mreturn\u001b[39;00m \u001b[39mself\u001b[39;49m\u001b[39m.\u001b[39;49m_cos_estimate(problem, power, shots)\n",
      "File \u001b[0;32m~/.local/lib/python3.11/site-packages/qiskit/algorithms/amplitude_estimators/fae.py:183\u001b[0m, in \u001b[0;36mFasterAmplitudeEstimation._cos_estimate\u001b[0;34m(self, estimation_problem, k, shots)\u001b[0m\n\u001b[1;32m    181\u001b[0m     cos_estimate \u001b[39m=\u001b[39m \u001b[39m1\u001b[39m \u001b[39m-\u001b[39m \u001b[39m2\u001b[39m \u001b[39m*\u001b[39m prob\n\u001b[1;32m    182\u001b[0m \u001b[39melse\u001b[39;00m:\n\u001b[0;32m--> 183\u001b[0m     circuit \u001b[39m=\u001b[39m \u001b[39mself\u001b[39;49m\u001b[39m.\u001b[39;49mconstruct_circuit(estimation_problem, k, measurement\u001b[39m=\u001b[39;49m\u001b[39mTrue\u001b[39;49;00m)\n\u001b[1;32m    185\u001b[0m     \u001b[39mself\u001b[39m\u001b[39m.\u001b[39m_quantum_instance\u001b[39m.\u001b[39mrun_config\u001b[39m.\u001b[39mshots \u001b[39m=\u001b[39m shots\n\u001b[1;32m    186\u001b[0m     counts \u001b[39m=\u001b[39m \u001b[39mself\u001b[39m\u001b[39m.\u001b[39m_quantum_instance\u001b[39m.\u001b[39mexecute(circuit)\u001b[39m.\u001b[39mget_counts()\n",
      "File \u001b[0;32m~/.local/lib/python3.11/site-packages/qiskit/algorithms/amplitude_estimators/fae.py:236\u001b[0m, in \u001b[0;36mFasterAmplitudeEstimation.construct_circuit\u001b[0;34m(self, estimation_problem, k, measurement)\u001b[0m\n\u001b[1;32m    234\u001b[0m \u001b[39m# add Q^k\u001b[39;00m\n\u001b[1;32m    235\u001b[0m \u001b[39mif\u001b[39;00m k \u001b[39m!=\u001b[39m \u001b[39m0\u001b[39m:\n\u001b[0;32m--> 236\u001b[0m     circuit\u001b[39m.\u001b[39;49mcompose(estimation_problem\u001b[39m.\u001b[39;49mgrover_operator\u001b[39m.\u001b[39;49mpower(k), inplace\u001b[39m=\u001b[39;49m\u001b[39mTrue\u001b[39;49;00m)\n\u001b[1;32m    238\u001b[0m     \u001b[39m# add optional measurement\u001b[39;00m\n\u001b[1;32m    239\u001b[0m \u001b[39mif\u001b[39;00m measurement:\n\u001b[1;32m    240\u001b[0m     \u001b[39m# real hardware can currently not handle operations after measurements, which might\u001b[39;00m\n\u001b[1;32m    241\u001b[0m     \u001b[39m# happen if the circuit gets transpiled, hence we're adding a safeguard-barrier\u001b[39;00m\n",
      "File \u001b[0;32m~/.local/lib/python3.11/site-packages/qiskit/circuit/quantumcircuit.py:985\u001b[0m, in \u001b[0;36mQuantumCircuit.compose\u001b[0;34m(self, other, qubits, clbits, front, inplace, wrap)\u001b[0m\n\u001b[1;32m    983\u001b[0m n_qargs: \u001b[39mlist\u001b[39m[Qubit] \u001b[39m=\u001b[39m [edge_map[qarg] \u001b[39mfor\u001b[39;00m qarg \u001b[39min\u001b[39;00m instr\u001b[39m.\u001b[39mqubits]\n\u001b[1;32m    984\u001b[0m n_cargs: \u001b[39mlist\u001b[39m[Clbit] \u001b[39m=\u001b[39m [edge_map[carg] \u001b[39mfor\u001b[39;00m carg \u001b[39min\u001b[39;00m instr\u001b[39m.\u001b[39mclbits]\n\u001b[0;32m--> 985\u001b[0m n_op \u001b[39m=\u001b[39m instr\u001b[39m.\u001b[39;49moperation\u001b[39m.\u001b[39;49mcopy()\n\u001b[1;32m    987\u001b[0m \u001b[39mif\u001b[39;00m \u001b[39mgetattr\u001b[39m(n_op, \u001b[39m\"\u001b[39m\u001b[39mcondition\u001b[39m\u001b[39m\"\u001b[39m, \u001b[39mNone\u001b[39;00m) \u001b[39mis\u001b[39;00m \u001b[39mnot\u001b[39;00m \u001b[39mNone\u001b[39;00m:\n\u001b[1;32m    988\u001b[0m     target, value \u001b[39m=\u001b[39m n_op\u001b[39m.\u001b[39mcondition\n",
      "File \u001b[0;32m~/.local/lib/python3.11/site-packages/qiskit/circuit/instruction.py:426\u001b[0m, in \u001b[0;36mInstruction.copy\u001b[0;34m(self, name)\u001b[0m\n\u001b[1;32m    415\u001b[0m \u001b[39mdef\u001b[39;00m \u001b[39mcopy\u001b[39m(\u001b[39mself\u001b[39m, name\u001b[39m=\u001b[39m\u001b[39mNone\u001b[39;00m):\n\u001b[1;32m    416\u001b[0m \u001b[39m    \u001b[39m\u001b[39m\"\"\"\u001b[39;00m\n\u001b[1;32m    417\u001b[0m \u001b[39m    Copy of the instruction.\u001b[39;00m\n\u001b[1;32m    418\u001b[0m \n\u001b[0;32m   (...)\u001b[0m\n\u001b[1;32m    424\u001b[0m \u001b[39m        was provided\u001b[39;00m\n\u001b[1;32m    425\u001b[0m \u001b[39m    \"\"\"\u001b[39;00m\n\u001b[0;32m--> 426\u001b[0m     cpy \u001b[39m=\u001b[39m \u001b[39mself\u001b[39;49m\u001b[39m.\u001b[39;49m__deepcopy__()\n\u001b[1;32m    428\u001b[0m     \u001b[39mif\u001b[39;00m name:\n\u001b[1;32m    429\u001b[0m         cpy\u001b[39m.\u001b[39mname \u001b[39m=\u001b[39m name\n",
      "File \u001b[0;32m~/.local/lib/python3.11/site-packages/qiskit/circuit/instruction.py:436\u001b[0m, in \u001b[0;36mInstruction.__deepcopy__\u001b[0;34m(self, _memo)\u001b[0m\n\u001b[1;32m    434\u001b[0m cpy\u001b[39m.\u001b[39m_params \u001b[39m=\u001b[39m copy\u001b[39m.\u001b[39mcopy(\u001b[39mself\u001b[39m\u001b[39m.\u001b[39m_params)\n\u001b[1;32m    435\u001b[0m \u001b[39mif\u001b[39;00m \u001b[39mself\u001b[39m\u001b[39m.\u001b[39m_definition:\n\u001b[0;32m--> 436\u001b[0m     cpy\u001b[39m.\u001b[39m_definition \u001b[39m=\u001b[39m copy\u001b[39m.\u001b[39;49mdeepcopy(\u001b[39mself\u001b[39;49m\u001b[39m.\u001b[39;49m_definition, _memo)\n\u001b[1;32m    437\u001b[0m \u001b[39mreturn\u001b[39;00m cpy\n",
      "File \u001b[0;32m/usr/lib/python3.11/copy.py:172\u001b[0m, in \u001b[0;36mdeepcopy\u001b[0;34m(x, memo, _nil)\u001b[0m\n\u001b[1;32m    170\u001b[0m                 y \u001b[39m=\u001b[39m x\n\u001b[1;32m    171\u001b[0m             \u001b[39melse\u001b[39;00m:\n\u001b[0;32m--> 172\u001b[0m                 y \u001b[39m=\u001b[39m _reconstruct(x, memo, \u001b[39m*\u001b[39;49mrv)\n\u001b[1;32m    174\u001b[0m \u001b[39m# If is its own copy, don't memoize.\u001b[39;00m\n\u001b[1;32m    175\u001b[0m \u001b[39mif\u001b[39;00m y \u001b[39mis\u001b[39;00m \u001b[39mnot\u001b[39;00m x:\n",
      "File \u001b[0;32m/usr/lib/python3.11/copy.py:271\u001b[0m, in \u001b[0;36m_reconstruct\u001b[0;34m(x, memo, func, args, state, listiter, dictiter, deepcopy)\u001b[0m\n\u001b[1;32m    269\u001b[0m \u001b[39mif\u001b[39;00m state \u001b[39mis\u001b[39;00m \u001b[39mnot\u001b[39;00m \u001b[39mNone\u001b[39;00m:\n\u001b[1;32m    270\u001b[0m     \u001b[39mif\u001b[39;00m deep:\n\u001b[0;32m--> 271\u001b[0m         state \u001b[39m=\u001b[39m deepcopy(state, memo)\n\u001b[1;32m    272\u001b[0m     \u001b[39mif\u001b[39;00m \u001b[39mhasattr\u001b[39m(y, \u001b[39m'\u001b[39m\u001b[39m__setstate__\u001b[39m\u001b[39m'\u001b[39m):\n\u001b[1;32m    273\u001b[0m         y\u001b[39m.\u001b[39m__setstate__(state)\n",
      "File \u001b[0;32m/usr/lib/python3.11/copy.py:146\u001b[0m, in \u001b[0;36mdeepcopy\u001b[0;34m(x, memo, _nil)\u001b[0m\n\u001b[1;32m    144\u001b[0m copier \u001b[39m=\u001b[39m _deepcopy_dispatch\u001b[39m.\u001b[39mget(\u001b[39mcls\u001b[39m)\n\u001b[1;32m    145\u001b[0m \u001b[39mif\u001b[39;00m copier \u001b[39mis\u001b[39;00m \u001b[39mnot\u001b[39;00m \u001b[39mNone\u001b[39;00m:\n\u001b[0;32m--> 146\u001b[0m     y \u001b[39m=\u001b[39m copier(x, memo)\n\u001b[1;32m    147\u001b[0m \u001b[39melse\u001b[39;00m:\n\u001b[1;32m    148\u001b[0m     \u001b[39mif\u001b[39;00m \u001b[39missubclass\u001b[39m(\u001b[39mcls\u001b[39m, \u001b[39mtype\u001b[39m):\n",
      "File \u001b[0;32m/usr/lib/python3.11/copy.py:231\u001b[0m, in \u001b[0;36m_deepcopy_dict\u001b[0;34m(x, memo, deepcopy)\u001b[0m\n\u001b[1;32m    229\u001b[0m memo[\u001b[39mid\u001b[39m(x)] \u001b[39m=\u001b[39m y\n\u001b[1;32m    230\u001b[0m \u001b[39mfor\u001b[39;00m key, value \u001b[39min\u001b[39;00m x\u001b[39m.\u001b[39mitems():\n\u001b[0;32m--> 231\u001b[0m     y[deepcopy(key, memo)] \u001b[39m=\u001b[39m deepcopy(value, memo)\n\u001b[1;32m    232\u001b[0m \u001b[39mreturn\u001b[39;00m y\n",
      "File \u001b[0;32m/usr/lib/python3.11/copy.py:146\u001b[0m, in \u001b[0;36mdeepcopy\u001b[0;34m(x, memo, _nil)\u001b[0m\n\u001b[1;32m    144\u001b[0m copier \u001b[39m=\u001b[39m _deepcopy_dispatch\u001b[39m.\u001b[39mget(\u001b[39mcls\u001b[39m)\n\u001b[1;32m    145\u001b[0m \u001b[39mif\u001b[39;00m copier \u001b[39mis\u001b[39;00m \u001b[39mnot\u001b[39;00m \u001b[39mNone\u001b[39;00m:\n\u001b[0;32m--> 146\u001b[0m     y \u001b[39m=\u001b[39m copier(x, memo)\n\u001b[1;32m    147\u001b[0m \u001b[39melse\u001b[39;00m:\n\u001b[1;32m    148\u001b[0m     \u001b[39mif\u001b[39;00m \u001b[39missubclass\u001b[39m(\u001b[39mcls\u001b[39m, \u001b[39mtype\u001b[39m):\n",
      "File \u001b[0;32m/usr/lib/python3.11/copy.py:206\u001b[0m, in \u001b[0;36m_deepcopy_list\u001b[0;34m(x, memo, deepcopy)\u001b[0m\n\u001b[1;32m    204\u001b[0m append \u001b[39m=\u001b[39m y\u001b[39m.\u001b[39mappend\n\u001b[1;32m    205\u001b[0m \u001b[39mfor\u001b[39;00m a \u001b[39min\u001b[39;00m x:\n\u001b[0;32m--> 206\u001b[0m     append(deepcopy(a, memo))\n\u001b[1;32m    207\u001b[0m \u001b[39mreturn\u001b[39;00m y\n",
      "File \u001b[0;32m/usr/lib/python3.11/copy.py:172\u001b[0m, in \u001b[0;36mdeepcopy\u001b[0;34m(x, memo, _nil)\u001b[0m\n\u001b[1;32m    170\u001b[0m                 y \u001b[39m=\u001b[39m x\n\u001b[1;32m    171\u001b[0m             \u001b[39melse\u001b[39;00m:\n\u001b[0;32m--> 172\u001b[0m                 y \u001b[39m=\u001b[39m _reconstruct(x, memo, \u001b[39m*\u001b[39;49mrv)\n\u001b[1;32m    174\u001b[0m \u001b[39m# If is its own copy, don't memoize.\u001b[39;00m\n\u001b[1;32m    175\u001b[0m \u001b[39mif\u001b[39;00m y \u001b[39mis\u001b[39;00m \u001b[39mnot\u001b[39;00m x:\n",
      "File \u001b[0;32m/usr/lib/python3.11/copy.py:271\u001b[0m, in \u001b[0;36m_reconstruct\u001b[0;34m(x, memo, func, args, state, listiter, dictiter, deepcopy)\u001b[0m\n\u001b[1;32m    269\u001b[0m \u001b[39mif\u001b[39;00m state \u001b[39mis\u001b[39;00m \u001b[39mnot\u001b[39;00m \u001b[39mNone\u001b[39;00m:\n\u001b[1;32m    270\u001b[0m     \u001b[39mif\u001b[39;00m deep:\n\u001b[0;32m--> 271\u001b[0m         state \u001b[39m=\u001b[39m deepcopy(state, memo)\n\u001b[1;32m    272\u001b[0m     \u001b[39mif\u001b[39;00m \u001b[39mhasattr\u001b[39m(y, \u001b[39m'\u001b[39m\u001b[39m__setstate__\u001b[39m\u001b[39m'\u001b[39m):\n\u001b[1;32m    273\u001b[0m         y\u001b[39m.\u001b[39m__setstate__(state)\n",
      "    \u001b[0;31m[... skipping similar frames: deepcopy at line 146 (1 times)]\u001b[0m\n",
      "File \u001b[0;32m/usr/lib/python3.11/copy.py:211\u001b[0m, in \u001b[0;36m_deepcopy_tuple\u001b[0;34m(x, memo, deepcopy)\u001b[0m\n\u001b[1;32m    210\u001b[0m \u001b[39mdef\u001b[39;00m \u001b[39m_deepcopy_tuple\u001b[39m(x, memo, deepcopy\u001b[39m=\u001b[39mdeepcopy):\n\u001b[0;32m--> 211\u001b[0m     y \u001b[39m=\u001b[39m [deepcopy(a, memo) \u001b[39mfor\u001b[39;49;00m a \u001b[39min\u001b[39;49;00m x]\n\u001b[1;32m    212\u001b[0m     \u001b[39m# We're not going to put the tuple in the memo, but it's still important we\u001b[39;00m\n\u001b[1;32m    213\u001b[0m     \u001b[39m# check for it, in case the tuple contains recursive mutable structures.\u001b[39;00m\n\u001b[1;32m    214\u001b[0m     \u001b[39mtry\u001b[39;00m:\n",
      "File \u001b[0;32m/usr/lib/python3.11/copy.py:211\u001b[0m, in \u001b[0;36m<listcomp>\u001b[0;34m(.0)\u001b[0m\n\u001b[1;32m    210\u001b[0m \u001b[39mdef\u001b[39;00m \u001b[39m_deepcopy_tuple\u001b[39m(x, memo, deepcopy\u001b[39m=\u001b[39mdeepcopy):\n\u001b[0;32m--> 211\u001b[0m     y \u001b[39m=\u001b[39m [deepcopy(a, memo) \u001b[39mfor\u001b[39;00m a \u001b[39min\u001b[39;00m x]\n\u001b[1;32m    212\u001b[0m     \u001b[39m# We're not going to put the tuple in the memo, but it's still important we\u001b[39;00m\n\u001b[1;32m    213\u001b[0m     \u001b[39m# check for it, in case the tuple contains recursive mutable structures.\u001b[39;00m\n\u001b[1;32m    214\u001b[0m     \u001b[39mtry\u001b[39;00m:\n",
      "    \u001b[0;31m[... skipping similar frames: deepcopy at line 146 (1 times)]\u001b[0m\n",
      "File \u001b[0;32m/usr/lib/python3.11/copy.py:231\u001b[0m, in \u001b[0;36m_deepcopy_dict\u001b[0;34m(x, memo, deepcopy)\u001b[0m\n\u001b[1;32m    229\u001b[0m memo[\u001b[39mid\u001b[39m(x)] \u001b[39m=\u001b[39m y\n\u001b[1;32m    230\u001b[0m \u001b[39mfor\u001b[39;00m key, value \u001b[39min\u001b[39;00m x\u001b[39m.\u001b[39mitems():\n\u001b[0;32m--> 231\u001b[0m     y[deepcopy(key, memo)] \u001b[39m=\u001b[39m deepcopy(value, memo)\n\u001b[1;32m    232\u001b[0m \u001b[39mreturn\u001b[39;00m y\n",
      "File \u001b[0;32m/usr/lib/python3.11/copy.py:153\u001b[0m, in \u001b[0;36mdeepcopy\u001b[0;34m(x, memo, _nil)\u001b[0m\n\u001b[1;32m    151\u001b[0m copier \u001b[39m=\u001b[39m \u001b[39mgetattr\u001b[39m(x, \u001b[39m\"\u001b[39m\u001b[39m__deepcopy__\u001b[39m\u001b[39m\"\u001b[39m, \u001b[39mNone\u001b[39;00m)\n\u001b[1;32m    152\u001b[0m \u001b[39mif\u001b[39;00m copier \u001b[39mis\u001b[39;00m \u001b[39mnot\u001b[39;00m \u001b[39mNone\u001b[39;00m:\n\u001b[0;32m--> 153\u001b[0m     y \u001b[39m=\u001b[39m copier(memo)\n\u001b[1;32m    154\u001b[0m \u001b[39melse\u001b[39;00m:\n\u001b[1;32m    155\u001b[0m     reductor \u001b[39m=\u001b[39m dispatch_table\u001b[39m.\u001b[39mget(\u001b[39mcls\u001b[39m)\n",
      "File \u001b[0;32m~/.local/lib/python3.11/site-packages/qiskit/circuit/instruction.py:436\u001b[0m, in \u001b[0;36mInstruction.__deepcopy__\u001b[0;34m(self, _memo)\u001b[0m\n\u001b[1;32m    434\u001b[0m cpy\u001b[39m.\u001b[39m_params \u001b[39m=\u001b[39m copy\u001b[39m.\u001b[39mcopy(\u001b[39mself\u001b[39m\u001b[39m.\u001b[39m_params)\n\u001b[1;32m    435\u001b[0m \u001b[39mif\u001b[39;00m \u001b[39mself\u001b[39m\u001b[39m.\u001b[39m_definition:\n\u001b[0;32m--> 436\u001b[0m     cpy\u001b[39m.\u001b[39m_definition \u001b[39m=\u001b[39m copy\u001b[39m.\u001b[39;49mdeepcopy(\u001b[39mself\u001b[39;49m\u001b[39m.\u001b[39;49m_definition, _memo)\n\u001b[1;32m    437\u001b[0m \u001b[39mreturn\u001b[39;00m cpy\n",
      "    \u001b[0;31m[... skipping similar frames: deepcopy at line 146 (2 times), _deepcopy_dict at line 231 (1 times), _reconstruct at line 271 (1 times), deepcopy at line 172 (1 times)]\u001b[0m\n",
      "File \u001b[0;32m/usr/lib/python3.11/copy.py:206\u001b[0m, in \u001b[0;36m_deepcopy_list\u001b[0;34m(x, memo, deepcopy)\u001b[0m\n\u001b[1;32m    204\u001b[0m append \u001b[39m=\u001b[39m y\u001b[39m.\u001b[39mappend\n\u001b[1;32m    205\u001b[0m \u001b[39mfor\u001b[39;00m a \u001b[39min\u001b[39;00m x:\n\u001b[0;32m--> 206\u001b[0m     append(deepcopy(a, memo))\n\u001b[1;32m    207\u001b[0m \u001b[39mreturn\u001b[39;00m y\n",
      "    \u001b[0;31m[... skipping similar frames: _reconstruct at line 271 (1 times), deepcopy at line 172 (1 times), deepcopy at line 146 (1 times)]\u001b[0m\n",
      "File \u001b[0;32m/usr/lib/python3.11/copy.py:211\u001b[0m, in \u001b[0;36m_deepcopy_tuple\u001b[0;34m(x, memo, deepcopy)\u001b[0m\n\u001b[1;32m    210\u001b[0m \u001b[39mdef\u001b[39;00m \u001b[39m_deepcopy_tuple\u001b[39m(x, memo, deepcopy\u001b[39m=\u001b[39mdeepcopy):\n\u001b[0;32m--> 211\u001b[0m     y \u001b[39m=\u001b[39m [deepcopy(a, memo) \u001b[39mfor\u001b[39;49;00m a \u001b[39min\u001b[39;49;00m x]\n\u001b[1;32m    212\u001b[0m     \u001b[39m# We're not going to put the tuple in the memo, but it's still important we\u001b[39;00m\n\u001b[1;32m    213\u001b[0m     \u001b[39m# check for it, in case the tuple contains recursive mutable structures.\u001b[39;00m\n\u001b[1;32m    214\u001b[0m     \u001b[39mtry\u001b[39;00m:\n",
      "File \u001b[0;32m/usr/lib/python3.11/copy.py:211\u001b[0m, in \u001b[0;36m<listcomp>\u001b[0;34m(.0)\u001b[0m\n\u001b[1;32m    210\u001b[0m \u001b[39mdef\u001b[39;00m \u001b[39m_deepcopy_tuple\u001b[39m(x, memo, deepcopy\u001b[39m=\u001b[39mdeepcopy):\n\u001b[0;32m--> 211\u001b[0m     y \u001b[39m=\u001b[39m [deepcopy(a, memo) \u001b[39mfor\u001b[39;00m a \u001b[39min\u001b[39;00m x]\n\u001b[1;32m    212\u001b[0m     \u001b[39m# We're not going to put the tuple in the memo, but it's still important we\u001b[39;00m\n\u001b[1;32m    213\u001b[0m     \u001b[39m# check for it, in case the tuple contains recursive mutable structures.\u001b[39;00m\n\u001b[1;32m    214\u001b[0m     \u001b[39mtry\u001b[39;00m:\n",
      "    \u001b[0;31m[... skipping similar frames: _deepcopy_dict at line 231 (1 times), deepcopy at line 146 (1 times)]\u001b[0m\n",
      "File \u001b[0;32m/usr/lib/python3.11/copy.py:153\u001b[0m, in \u001b[0;36mdeepcopy\u001b[0;34m(x, memo, _nil)\u001b[0m\n\u001b[1;32m    151\u001b[0m copier \u001b[39m=\u001b[39m \u001b[39mgetattr\u001b[39m(x, \u001b[39m\"\u001b[39m\u001b[39m__deepcopy__\u001b[39m\u001b[39m\"\u001b[39m, \u001b[39mNone\u001b[39;00m)\n\u001b[1;32m    152\u001b[0m \u001b[39mif\u001b[39;00m copier \u001b[39mis\u001b[39;00m \u001b[39mnot\u001b[39;00m \u001b[39mNone\u001b[39;00m:\n\u001b[0;32m--> 153\u001b[0m     y \u001b[39m=\u001b[39m copier(memo)\n\u001b[1;32m    154\u001b[0m \u001b[39melse\u001b[39;00m:\n\u001b[1;32m    155\u001b[0m     reductor \u001b[39m=\u001b[39m dispatch_table\u001b[39m.\u001b[39mget(\u001b[39mcls\u001b[39m)\n",
      "    \u001b[0;31m[... skipping similar frames: deepcopy at line 146 (4 times), _deepcopy_dict at line 231 (2 times), _reconstruct at line 271 (2 times), deepcopy at line 172 (2 times), <listcomp> at line 211 (1 times), Instruction.__deepcopy__ at line 436 (1 times), _deepcopy_list at line 206 (1 times), _deepcopy_tuple at line 211 (1 times), deepcopy at line 153 (1 times)]\u001b[0m\n",
      "File \u001b[0;32m~/.local/lib/python3.11/site-packages/qiskit/circuit/instruction.py:436\u001b[0m, in \u001b[0;36mInstruction.__deepcopy__\u001b[0;34m(self, _memo)\u001b[0m\n\u001b[1;32m    434\u001b[0m cpy\u001b[39m.\u001b[39m_params \u001b[39m=\u001b[39m copy\u001b[39m.\u001b[39mcopy(\u001b[39mself\u001b[39m\u001b[39m.\u001b[39m_params)\n\u001b[1;32m    435\u001b[0m \u001b[39mif\u001b[39;00m \u001b[39mself\u001b[39m\u001b[39m.\u001b[39m_definition:\n\u001b[0;32m--> 436\u001b[0m     cpy\u001b[39m.\u001b[39m_definition \u001b[39m=\u001b[39m copy\u001b[39m.\u001b[39;49mdeepcopy(\u001b[39mself\u001b[39;49m\u001b[39m.\u001b[39;49m_definition, _memo)\n\u001b[1;32m    437\u001b[0m \u001b[39mreturn\u001b[39;00m cpy\n",
      "    \u001b[0;31m[... skipping similar frames: deepcopy at line 146 (2 times), _deepcopy_dict at line 231 (1 times), _reconstruct at line 271 (1 times), deepcopy at line 172 (1 times)]\u001b[0m\n",
      "File \u001b[0;32m/usr/lib/python3.11/copy.py:206\u001b[0m, in \u001b[0;36m_deepcopy_list\u001b[0;34m(x, memo, deepcopy)\u001b[0m\n\u001b[1;32m    204\u001b[0m append \u001b[39m=\u001b[39m y\u001b[39m.\u001b[39mappend\n\u001b[1;32m    205\u001b[0m \u001b[39mfor\u001b[39;00m a \u001b[39min\u001b[39;00m x:\n\u001b[0;32m--> 206\u001b[0m     append(deepcopy(a, memo))\n\u001b[1;32m    207\u001b[0m \u001b[39mreturn\u001b[39;00m y\n",
      "File \u001b[0;32m/usr/lib/python3.11/copy.py:172\u001b[0m, in \u001b[0;36mdeepcopy\u001b[0;34m(x, memo, _nil)\u001b[0m\n\u001b[1;32m    170\u001b[0m                 y \u001b[39m=\u001b[39m x\n\u001b[1;32m    171\u001b[0m             \u001b[39melse\u001b[39;00m:\n\u001b[0;32m--> 172\u001b[0m                 y \u001b[39m=\u001b[39m _reconstruct(x, memo, \u001b[39m*\u001b[39;49mrv)\n\u001b[1;32m    174\u001b[0m \u001b[39m# If is its own copy, don't memoize.\u001b[39;00m\n\u001b[1;32m    175\u001b[0m \u001b[39mif\u001b[39;00m y \u001b[39mis\u001b[39;00m \u001b[39mnot\u001b[39;00m x:\n",
      "File \u001b[0;32m/usr/lib/python3.11/copy.py:271\u001b[0m, in \u001b[0;36m_reconstruct\u001b[0;34m(x, memo, func, args, state, listiter, dictiter, deepcopy)\u001b[0m\n\u001b[1;32m    269\u001b[0m \u001b[39mif\u001b[39;00m state \u001b[39mis\u001b[39;00m \u001b[39mnot\u001b[39;00m \u001b[39mNone\u001b[39;00m:\n\u001b[1;32m    270\u001b[0m     \u001b[39mif\u001b[39;00m deep:\n\u001b[0;32m--> 271\u001b[0m         state \u001b[39m=\u001b[39m deepcopy(state, memo)\n\u001b[1;32m    272\u001b[0m     \u001b[39mif\u001b[39;00m \u001b[39mhasattr\u001b[39m(y, \u001b[39m'\u001b[39m\u001b[39m__setstate__\u001b[39m\u001b[39m'\u001b[39m):\n\u001b[1;32m    273\u001b[0m         y\u001b[39m.\u001b[39m__setstate__(state)\n",
      "    \u001b[0;31m[... skipping similar frames: deepcopy at line 146 (1 times)]\u001b[0m\n",
      "File \u001b[0;32m/usr/lib/python3.11/copy.py:211\u001b[0m, in \u001b[0;36m_deepcopy_tuple\u001b[0;34m(x, memo, deepcopy)\u001b[0m\n\u001b[1;32m    210\u001b[0m \u001b[39mdef\u001b[39;00m \u001b[39m_deepcopy_tuple\u001b[39m(x, memo, deepcopy\u001b[39m=\u001b[39mdeepcopy):\n\u001b[0;32m--> 211\u001b[0m     y \u001b[39m=\u001b[39m [deepcopy(a, memo) \u001b[39mfor\u001b[39;49;00m a \u001b[39min\u001b[39;49;00m x]\n\u001b[1;32m    212\u001b[0m     \u001b[39m# We're not going to put the tuple in the memo, but it's still important we\u001b[39;00m\n\u001b[1;32m    213\u001b[0m     \u001b[39m# check for it, in case the tuple contains recursive mutable structures.\u001b[39;00m\n\u001b[1;32m    214\u001b[0m     \u001b[39mtry\u001b[39;00m:\n",
      "File \u001b[0;32m/usr/lib/python3.11/copy.py:211\u001b[0m, in \u001b[0;36m<listcomp>\u001b[0;34m(.0)\u001b[0m\n\u001b[1;32m    210\u001b[0m \u001b[39mdef\u001b[39;00m \u001b[39m_deepcopy_tuple\u001b[39m(x, memo, deepcopy\u001b[39m=\u001b[39mdeepcopy):\n\u001b[0;32m--> 211\u001b[0m     y \u001b[39m=\u001b[39m [deepcopy(a, memo) \u001b[39mfor\u001b[39;00m a \u001b[39min\u001b[39;00m x]\n\u001b[1;32m    212\u001b[0m     \u001b[39m# We're not going to put the tuple in the memo, but it's still important we\u001b[39;00m\n\u001b[1;32m    213\u001b[0m     \u001b[39m# check for it, in case the tuple contains recursive mutable structures.\u001b[39;00m\n\u001b[1;32m    214\u001b[0m     \u001b[39mtry\u001b[39;00m:\n",
      "File \u001b[0;32m/usr/lib/python3.11/copy.py:146\u001b[0m, in \u001b[0;36mdeepcopy\u001b[0;34m(x, memo, _nil)\u001b[0m\n\u001b[1;32m    144\u001b[0m copier \u001b[39m=\u001b[39m _deepcopy_dispatch\u001b[39m.\u001b[39mget(\u001b[39mcls\u001b[39m)\n\u001b[1;32m    145\u001b[0m \u001b[39mif\u001b[39;00m copier \u001b[39mis\u001b[39;00m \u001b[39mnot\u001b[39;00m \u001b[39mNone\u001b[39;00m:\n\u001b[0;32m--> 146\u001b[0m     y \u001b[39m=\u001b[39m copier(x, memo)\n\u001b[1;32m    147\u001b[0m \u001b[39melse\u001b[39;00m:\n\u001b[1;32m    148\u001b[0m     \u001b[39mif\u001b[39;00m \u001b[39missubclass\u001b[39m(\u001b[39mcls\u001b[39m, \u001b[39mtype\u001b[39m):\n",
      "File \u001b[0;32m/usr/lib/python3.11/copy.py:231\u001b[0m, in \u001b[0;36m_deepcopy_dict\u001b[0;34m(x, memo, deepcopy)\u001b[0m\n\u001b[1;32m    229\u001b[0m memo[\u001b[39mid\u001b[39m(x)] \u001b[39m=\u001b[39m y\n\u001b[1;32m    230\u001b[0m \u001b[39mfor\u001b[39;00m key, value \u001b[39min\u001b[39;00m x\u001b[39m.\u001b[39mitems():\n\u001b[0;32m--> 231\u001b[0m     y[deepcopy(key, memo)] \u001b[39m=\u001b[39m deepcopy(value, memo)\n\u001b[1;32m    232\u001b[0m \u001b[39mreturn\u001b[39;00m y\n",
      "File \u001b[0;32m/usr/lib/python3.11/copy.py:153\u001b[0m, in \u001b[0;36mdeepcopy\u001b[0;34m(x, memo, _nil)\u001b[0m\n\u001b[1;32m    151\u001b[0m copier \u001b[39m=\u001b[39m \u001b[39mgetattr\u001b[39m(x, \u001b[39m\"\u001b[39m\u001b[39m__deepcopy__\u001b[39m\u001b[39m\"\u001b[39m, \u001b[39mNone\u001b[39;00m)\n\u001b[1;32m    152\u001b[0m \u001b[39mif\u001b[39;00m copier \u001b[39mis\u001b[39;00m \u001b[39mnot\u001b[39;00m \u001b[39mNone\u001b[39;00m:\n\u001b[0;32m--> 153\u001b[0m     y \u001b[39m=\u001b[39m copier(memo)\n\u001b[1;32m    154\u001b[0m \u001b[39melse\u001b[39;00m:\n\u001b[1;32m    155\u001b[0m     reductor \u001b[39m=\u001b[39m dispatch_table\u001b[39m.\u001b[39mget(\u001b[39mcls\u001b[39m)\n",
      "File \u001b[0;32m~/.local/lib/python3.11/site-packages/qiskit/circuit/controlledgate.py:243\u001b[0m, in \u001b[0;36mControlledGate.__deepcopy__\u001b[0;34m(self, _memo)\u001b[0m\n\u001b[1;32m    241\u001b[0m cpy\u001b[39m.\u001b[39mbase_gate \u001b[39m=\u001b[39m \u001b[39mself\u001b[39m\u001b[39m.\u001b[39mbase_gate\u001b[39m.\u001b[39mcopy()\n\u001b[1;32m    242\u001b[0m \u001b[39mif\u001b[39;00m \u001b[39mself\u001b[39m\u001b[39m.\u001b[39m_definition:\n\u001b[0;32m--> 243\u001b[0m     cpy\u001b[39m.\u001b[39m_definition \u001b[39m=\u001b[39m copy\u001b[39m.\u001b[39;49mdeepcopy(\u001b[39mself\u001b[39;49m\u001b[39m.\u001b[39;49m_definition, _memo)\n\u001b[1;32m    244\u001b[0m \u001b[39mreturn\u001b[39;00m cpy\n",
      "File \u001b[0;32m/usr/lib/python3.11/copy.py:172\u001b[0m, in \u001b[0;36mdeepcopy\u001b[0;34m(x, memo, _nil)\u001b[0m\n\u001b[1;32m    170\u001b[0m                 y \u001b[39m=\u001b[39m x\n\u001b[1;32m    171\u001b[0m             \u001b[39melse\u001b[39;00m:\n\u001b[0;32m--> 172\u001b[0m                 y \u001b[39m=\u001b[39m _reconstruct(x, memo, \u001b[39m*\u001b[39;49mrv)\n\u001b[1;32m    174\u001b[0m \u001b[39m# If is its own copy, don't memoize.\u001b[39;00m\n\u001b[1;32m    175\u001b[0m \u001b[39mif\u001b[39;00m y \u001b[39mis\u001b[39;00m \u001b[39mnot\u001b[39;00m x:\n",
      "File \u001b[0;32m/usr/lib/python3.11/copy.py:271\u001b[0m, in \u001b[0;36m_reconstruct\u001b[0;34m(x, memo, func, args, state, listiter, dictiter, deepcopy)\u001b[0m\n\u001b[1;32m    269\u001b[0m \u001b[39mif\u001b[39;00m state \u001b[39mis\u001b[39;00m \u001b[39mnot\u001b[39;00m \u001b[39mNone\u001b[39;00m:\n\u001b[1;32m    270\u001b[0m     \u001b[39mif\u001b[39;00m deep:\n\u001b[0;32m--> 271\u001b[0m         state \u001b[39m=\u001b[39m deepcopy(state, memo)\n\u001b[1;32m    272\u001b[0m     \u001b[39mif\u001b[39;00m \u001b[39mhasattr\u001b[39m(y, \u001b[39m'\u001b[39m\u001b[39m__setstate__\u001b[39m\u001b[39m'\u001b[39m):\n\u001b[1;32m    273\u001b[0m         y\u001b[39m.\u001b[39m__setstate__(state)\n",
      "File \u001b[0;32m/usr/lib/python3.11/copy.py:146\u001b[0m, in \u001b[0;36mdeepcopy\u001b[0;34m(x, memo, _nil)\u001b[0m\n\u001b[1;32m    144\u001b[0m copier \u001b[39m=\u001b[39m _deepcopy_dispatch\u001b[39m.\u001b[39mget(\u001b[39mcls\u001b[39m)\n\u001b[1;32m    145\u001b[0m \u001b[39mif\u001b[39;00m copier \u001b[39mis\u001b[39;00m \u001b[39mnot\u001b[39;00m \u001b[39mNone\u001b[39;00m:\n\u001b[0;32m--> 146\u001b[0m     y \u001b[39m=\u001b[39m copier(x, memo)\n\u001b[1;32m    147\u001b[0m \u001b[39melse\u001b[39;00m:\n\u001b[1;32m    148\u001b[0m     \u001b[39mif\u001b[39;00m \u001b[39missubclass\u001b[39m(\u001b[39mcls\u001b[39m, \u001b[39mtype\u001b[39m):\n",
      "File \u001b[0;32m/usr/lib/python3.11/copy.py:231\u001b[0m, in \u001b[0;36m_deepcopy_dict\u001b[0;34m(x, memo, deepcopy)\u001b[0m\n\u001b[1;32m    229\u001b[0m memo[\u001b[39mid\u001b[39m(x)] \u001b[39m=\u001b[39m y\n\u001b[1;32m    230\u001b[0m \u001b[39mfor\u001b[39;00m key, value \u001b[39min\u001b[39;00m x\u001b[39m.\u001b[39mitems():\n\u001b[0;32m--> 231\u001b[0m     y[deepcopy(key, memo)] \u001b[39m=\u001b[39m deepcopy(value, memo)\n\u001b[1;32m    232\u001b[0m \u001b[39mreturn\u001b[39;00m y\n",
      "File \u001b[0;32m/usr/lib/python3.11/copy.py:146\u001b[0m, in \u001b[0;36mdeepcopy\u001b[0;34m(x, memo, _nil)\u001b[0m\n\u001b[1;32m    144\u001b[0m copier \u001b[39m=\u001b[39m _deepcopy_dispatch\u001b[39m.\u001b[39mget(\u001b[39mcls\u001b[39m)\n\u001b[1;32m    145\u001b[0m \u001b[39mif\u001b[39;00m copier \u001b[39mis\u001b[39;00m \u001b[39mnot\u001b[39;00m \u001b[39mNone\u001b[39;00m:\n\u001b[0;32m--> 146\u001b[0m     y \u001b[39m=\u001b[39m copier(x, memo)\n\u001b[1;32m    147\u001b[0m \u001b[39melse\u001b[39;00m:\n\u001b[1;32m    148\u001b[0m     \u001b[39mif\u001b[39;00m \u001b[39missubclass\u001b[39m(\u001b[39mcls\u001b[39m, \u001b[39mtype\u001b[39m):\n",
      "File \u001b[0;32m/usr/lib/python3.11/copy.py:206\u001b[0m, in \u001b[0;36m_deepcopy_list\u001b[0;34m(x, memo, deepcopy)\u001b[0m\n\u001b[1;32m    204\u001b[0m append \u001b[39m=\u001b[39m y\u001b[39m.\u001b[39mappend\n\u001b[1;32m    205\u001b[0m \u001b[39mfor\u001b[39;00m a \u001b[39min\u001b[39;00m x:\n\u001b[0;32m--> 206\u001b[0m     append(deepcopy(a, memo))\n\u001b[1;32m    207\u001b[0m \u001b[39mreturn\u001b[39;00m y\n",
      "File \u001b[0;32m/usr/lib/python3.11/copy.py:172\u001b[0m, in \u001b[0;36mdeepcopy\u001b[0;34m(x, memo, _nil)\u001b[0m\n\u001b[1;32m    170\u001b[0m                 y \u001b[39m=\u001b[39m x\n\u001b[1;32m    171\u001b[0m             \u001b[39melse\u001b[39;00m:\n\u001b[0;32m--> 172\u001b[0m                 y \u001b[39m=\u001b[39m _reconstruct(x, memo, \u001b[39m*\u001b[39;49mrv)\n\u001b[1;32m    174\u001b[0m \u001b[39m# If is its own copy, don't memoize.\u001b[39;00m\n\u001b[1;32m    175\u001b[0m \u001b[39mif\u001b[39;00m y \u001b[39mis\u001b[39;00m \u001b[39mnot\u001b[39;00m x:\n",
      "File \u001b[0;32m/usr/lib/python3.11/copy.py:271\u001b[0m, in \u001b[0;36m_reconstruct\u001b[0;34m(x, memo, func, args, state, listiter, dictiter, deepcopy)\u001b[0m\n\u001b[1;32m    269\u001b[0m \u001b[39mif\u001b[39;00m state \u001b[39mis\u001b[39;00m \u001b[39mnot\u001b[39;00m \u001b[39mNone\u001b[39;00m:\n\u001b[1;32m    270\u001b[0m     \u001b[39mif\u001b[39;00m deep:\n\u001b[0;32m--> 271\u001b[0m         state \u001b[39m=\u001b[39m deepcopy(state, memo)\n\u001b[1;32m    272\u001b[0m     \u001b[39mif\u001b[39;00m \u001b[39mhasattr\u001b[39m(y, \u001b[39m'\u001b[39m\u001b[39m__setstate__\u001b[39m\u001b[39m'\u001b[39m):\n\u001b[1;32m    273\u001b[0m         y\u001b[39m.\u001b[39m__setstate__(state)\n",
      "    \u001b[0;31m[... skipping similar frames: deepcopy at line 146 (1 times)]\u001b[0m\n",
      "File \u001b[0;32m/usr/lib/python3.11/copy.py:211\u001b[0m, in \u001b[0;36m_deepcopy_tuple\u001b[0;34m(x, memo, deepcopy)\u001b[0m\n\u001b[1;32m    210\u001b[0m \u001b[39mdef\u001b[39;00m \u001b[39m_deepcopy_tuple\u001b[39m(x, memo, deepcopy\u001b[39m=\u001b[39mdeepcopy):\n\u001b[0;32m--> 211\u001b[0m     y \u001b[39m=\u001b[39m [deepcopy(a, memo) \u001b[39mfor\u001b[39;49;00m a \u001b[39min\u001b[39;49;00m x]\n\u001b[1;32m    212\u001b[0m     \u001b[39m# We're not going to put the tuple in the memo, but it's still important we\u001b[39;00m\n\u001b[1;32m    213\u001b[0m     \u001b[39m# check for it, in case the tuple contains recursive mutable structures.\u001b[39;00m\n\u001b[1;32m    214\u001b[0m     \u001b[39mtry\u001b[39;00m:\n",
      "File \u001b[0;32m/usr/lib/python3.11/copy.py:211\u001b[0m, in \u001b[0;36m<listcomp>\u001b[0;34m(.0)\u001b[0m\n\u001b[1;32m    210\u001b[0m \u001b[39mdef\u001b[39;00m \u001b[39m_deepcopy_tuple\u001b[39m(x, memo, deepcopy\u001b[39m=\u001b[39mdeepcopy):\n\u001b[0;32m--> 211\u001b[0m     y \u001b[39m=\u001b[39m [deepcopy(a, memo) \u001b[39mfor\u001b[39;00m a \u001b[39min\u001b[39;00m x]\n\u001b[1;32m    212\u001b[0m     \u001b[39m# We're not going to put the tuple in the memo, but it's still important we\u001b[39;00m\n\u001b[1;32m    213\u001b[0m     \u001b[39m# check for it, in case the tuple contains recursive mutable structures.\u001b[39;00m\n\u001b[1;32m    214\u001b[0m     \u001b[39mtry\u001b[39;00m:\n",
      "File \u001b[0;32m/usr/lib/python3.11/copy.py:146\u001b[0m, in \u001b[0;36mdeepcopy\u001b[0;34m(x, memo, _nil)\u001b[0m\n\u001b[1;32m    144\u001b[0m copier \u001b[39m=\u001b[39m _deepcopy_dispatch\u001b[39m.\u001b[39mget(\u001b[39mcls\u001b[39m)\n\u001b[1;32m    145\u001b[0m \u001b[39mif\u001b[39;00m copier \u001b[39mis\u001b[39;00m \u001b[39mnot\u001b[39;00m \u001b[39mNone\u001b[39;00m:\n\u001b[0;32m--> 146\u001b[0m     y \u001b[39m=\u001b[39m copier(x, memo)\n\u001b[1;32m    147\u001b[0m \u001b[39melse\u001b[39;00m:\n\u001b[1;32m    148\u001b[0m     \u001b[39mif\u001b[39;00m \u001b[39missubclass\u001b[39m(\u001b[39mcls\u001b[39m, \u001b[39mtype\u001b[39m):\n",
      "File \u001b[0;32m/usr/lib/python3.11/copy.py:231\u001b[0m, in \u001b[0;36m_deepcopy_dict\u001b[0;34m(x, memo, deepcopy)\u001b[0m\n\u001b[1;32m    229\u001b[0m memo[\u001b[39mid\u001b[39m(x)] \u001b[39m=\u001b[39m y\n\u001b[1;32m    230\u001b[0m \u001b[39mfor\u001b[39;00m key, value \u001b[39min\u001b[39;00m x\u001b[39m.\u001b[39mitems():\n\u001b[0;32m--> 231\u001b[0m     y[deepcopy(key, memo)] \u001b[39m=\u001b[39m deepcopy(value, memo)\n\u001b[1;32m    232\u001b[0m \u001b[39mreturn\u001b[39;00m y\n",
      "File \u001b[0;32m/usr/lib/python3.11/copy.py:153\u001b[0m, in \u001b[0;36mdeepcopy\u001b[0;34m(x, memo, _nil)\u001b[0m\n\u001b[1;32m    151\u001b[0m copier \u001b[39m=\u001b[39m \u001b[39mgetattr\u001b[39m(x, \u001b[39m\"\u001b[39m\u001b[39m__deepcopy__\u001b[39m\u001b[39m\"\u001b[39m, \u001b[39mNone\u001b[39;00m)\n\u001b[1;32m    152\u001b[0m \u001b[39mif\u001b[39;00m copier \u001b[39mis\u001b[39;00m \u001b[39mnot\u001b[39;00m \u001b[39mNone\u001b[39;00m:\n\u001b[0;32m--> 153\u001b[0m     y \u001b[39m=\u001b[39m copier(memo)\n\u001b[1;32m    154\u001b[0m \u001b[39melse\u001b[39;00m:\n\u001b[1;32m    155\u001b[0m     reductor \u001b[39m=\u001b[39m dispatch_table\u001b[39m.\u001b[39mget(\u001b[39mcls\u001b[39m)\n",
      "File \u001b[0;32m~/.local/lib/python3.11/site-packages/qiskit/circuit/controlledgate.py:240\u001b[0m, in \u001b[0;36mControlledGate.__deepcopy__\u001b[0;34m(self, _memo)\u001b[0m\n\u001b[1;32m    239\u001b[0m \u001b[39mdef\u001b[39;00m \u001b[39m__deepcopy__\u001b[39m(\u001b[39mself\u001b[39m, _memo\u001b[39m=\u001b[39m\u001b[39mNone\u001b[39;00m):\n\u001b[0;32m--> 240\u001b[0m     cpy \u001b[39m=\u001b[39m copy\u001b[39m.\u001b[39;49mcopy(\u001b[39mself\u001b[39;49m)\n\u001b[1;32m    241\u001b[0m     cpy\u001b[39m.\u001b[39mbase_gate \u001b[39m=\u001b[39m \u001b[39mself\u001b[39m\u001b[39m.\u001b[39mbase_gate\u001b[39m.\u001b[39mcopy()\n\u001b[1;32m    242\u001b[0m     \u001b[39mif\u001b[39;00m \u001b[39mself\u001b[39m\u001b[39m.\u001b[39m_definition:\n",
      "File \u001b[0;32m/usr/lib/python3.11/copy.py:92\u001b[0m, in \u001b[0;36mcopy\u001b[0;34m(x)\u001b[0m\n\u001b[1;32m     90\u001b[0m reductor \u001b[39m=\u001b[39m \u001b[39mgetattr\u001b[39m(x, \u001b[39m\"\u001b[39m\u001b[39m__reduce_ex__\u001b[39m\u001b[39m\"\u001b[39m, \u001b[39mNone\u001b[39;00m)\n\u001b[1;32m     91\u001b[0m \u001b[39mif\u001b[39;00m reductor \u001b[39mis\u001b[39;00m \u001b[39mnot\u001b[39;00m \u001b[39mNone\u001b[39;00m:\n\u001b[0;32m---> 92\u001b[0m     rv \u001b[39m=\u001b[39m reductor(\u001b[39m4\u001b[39m)\n\u001b[1;32m     93\u001b[0m \u001b[39melse\u001b[39;00m:\n\u001b[1;32m     94\u001b[0m     reductor \u001b[39m=\u001b[39m \u001b[39mgetattr\u001b[39m(x, \u001b[39m\"\u001b[39m\u001b[39m__reduce__\u001b[39m\u001b[39m\"\u001b[39m, \u001b[39mNone\u001b[39;00m)\n",
      "\u001b[0;31mKeyboardInterrupt\u001b[0m: "
     ]
    }
   ],
   "source": [
    "q_light_map = render_quantum_light_map(scene, pb_bits, steps, d_bits, backend, walk_samplaling_circuits, process_path_circuit)"
   ]
  },
  {
   "cell_type": "code",
   "execution_count": null,
   "metadata": {},
   "outputs": [],
   "source": [
    "classical_light_map = render_clasical_light_map(scene, emitted, diffuse, steps)\n"
   ]
  },
  {
   "cell_type": "code",
   "execution_count": null,
   "metadata": {},
   "outputs": [],
   "source": [
    "def save_image(data, filename):\n",
    "    sizes = np.shape(data)     \n",
    "    fig = plt.figure()\n",
    "    fig.set_size_inches(1. * sizes[0] / sizes[1], 1, forward = False)\n",
    "    ax = plt.Axes(fig, [0., 0., 1., 1.])\n",
    "    ax.set_axis_off()\n",
    "    fig.add_axes(ax)\n",
    "    ax.imshow(data)\n",
    "    plt.savefig(filename, dpi = sizes[0]) \n",
    "    plt.close()\n",
    "\n",
    "save_image(classical_light_map, 'clasic_lf.png')\n",
    "save_image(q_light_map, 'quantum_lf.png')\n"
   ]
  }
 ],
 "metadata": {
  "kernelspec": {
   "display_name": "Python 3",
   "language": "python",
   "name": "python3"
  },
  "language_info": {
   "codemirror_mode": {
    "name": "ipython",
    "version": 3
   },
   "file_extension": ".py",
   "mimetype": "text/x-python",
   "name": "python",
   "nbconvert_exporter": "python",
   "pygments_lexer": "ipython3",
   "version": "3.11.3"
  },
  "orig_nbformat": 4
 },
 "nbformat": 4,
 "nbformat_minor": 2
}
